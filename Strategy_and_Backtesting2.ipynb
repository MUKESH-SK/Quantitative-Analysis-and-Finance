{
  "nbformat": 4,
  "nbformat_minor": 0,
  "metadata": {
    "colab": {
      "provenance": [],
      "authorship_tag": "ABX9TyNVteDpJ0SIpg3uhdz02LHc",
      "include_colab_link": true
    },
    "kernelspec": {
      "name": "python3",
      "display_name": "Python 3"
    },
    "language_info": {
      "name": "python"
    }
  },
  "cells": [
    {
      "cell_type": "markdown",
      "metadata": {
        "id": "view-in-github",
        "colab_type": "text"
      },
      "source": [
        "<a href=\"https://colab.research.google.com/github/MUKESH-SK/Quantitative-Analysis-and-Finance/blob/main/Strategy_and_Backtesting2.ipynb\" target=\"_parent\"><img src=\"https://colab.research.google.com/assets/colab-badge.svg\" alt=\"Open In Colab\"/></a>"
      ]
    },
    {
      "cell_type": "markdown",
      "source": [
        "# **Importing Libraries**"
      ],
      "metadata": {
        "id": "guWdGsV17cmT"
      }
    },
    {
      "cell_type": "code",
      "execution_count": null,
      "metadata": {
        "id": "E3ayEVQIa0o6"
      },
      "outputs": [],
      "source": [
        "import pandas as pd\n",
        "import numpy as np\n",
        "import matplotlib.pyplot as plt"
      ]
    },
    {
      "cell_type": "markdown",
      "source": [
        "# **Loading Dataset**"
      ],
      "metadata": {
        "id": "CW9QN1HH7iYm"
      }
    },
    {
      "cell_type": "code",
      "source": [
        "dataset = pd.read_csv(r\"/content/quant_analysis_dataset.csv\") \n",
        "print(dataset)\n"
      ],
      "metadata": {
        "colab": {
          "base_uri": "https://localhost:8080/"
        },
        "id": "T3BD_4gba9-9",
        "outputId": "f03290fa-aba6-4c3a-aad9-459b9644c79c"
      },
      "execution_count": null,
      "outputs": [
        {
          "output_type": "stream",
          "name": "stdout",
          "text": [
            "           Date      Open      High       Low     Close  Adj Close  Volume\n",
            "0    2022-01-01  0.079536  0.079056  0.079520  0.079051   0.079051  205008\n",
            "1    2022-01-02  0.079043  0.080145  0.079351  0.080886   0.080886  208711\n",
            "2    2022-01-03  0.080885  0.081274  0.080666  0.080963   0.080963  260036\n",
            "3    2022-01-04  0.080962  0.081830  0.080832  0.082664   0.082664  305701\n",
            "4    2022-01-05  0.082668  0.081933  0.080739  0.081489   0.081489  414546\n",
            "..          ...       ...       ...       ...       ...        ...     ...\n",
            "361  2022-12-28  0.072544  0.072498  0.071846  0.071891   0.071891  301565\n",
            "362  2022-12-29  0.071893  0.072335  0.071976  0.072201   0.072201  248296\n",
            "363  2022-12-30  0.072200  0.072226  0.072340  0.072232   0.072232  244279\n",
            "364  2022-12-31  0.072239  0.072503  0.072164  0.072323   0.072323  182415\n",
            "365  2023-01-01  0.072320  0.072381  0.072163  0.072238   0.072238  144341\n",
            "\n",
            "[366 rows x 7 columns]\n"
          ]
        }
      ]
    },
    {
      "cell_type": "markdown",
      "source": [
        "For this question also we use the same functions used previously in question2"
      ],
      "metadata": {
        "id": "YaPBYg8Dh9xu"
      }
    },
    {
      "cell_type": "markdown",
      "source": [
        "# **Function for Calculating Simple Moving Averages (SMA)**\n"
      ],
      "metadata": {
        "id": "WPz7qmkF7wZF"
      }
    },
    {
      "cell_type": "code",
      "source": [
        "def simple_moving_average(data, period):\n",
        "    return data.rolling(window=period).mean()\n"
      ],
      "metadata": {
        "id": "aNBamIv9bCOD"
      },
      "execution_count": null,
      "outputs": []
    },
    {
      "cell_type": "markdown",
      "source": [
        "# **Function for Calculating Exponential Moving Averages (EMA)**"
      ],
      "metadata": {
        "id": "l8wDGmQG75kx"
      }
    },
    {
      "cell_type": "code",
      "source": [
        "def EMA(data, period):\n",
        "    alpha = 2/(period+1)\n",
        "    # Calculate the EMA using the pandas rolling function\n",
        "    ema = data.rolling(window=period).mean()\n",
        "    # Add a weight factor to the EMA calculation\n",
        "    ema = ema * (alpha) + data * (1-(alpha))\n",
        "    return ema"
      ],
      "metadata": {
        "id": "h9wmPbaubMzv"
      },
      "execution_count": null,
      "outputs": []
    },
    {
      "cell_type": "markdown",
      "source": [
        "# **Function for calculating Relative Strength Index (RSI)**"
      ],
      "metadata": {
        "id": "MPL4QNcH77OC"
      }
    },
    {
      "cell_type": "code",
      "source": [
        "def Calculate_RSI(data, period):\n",
        "    # Create a new dataframe with the difference between consecutive close prices\n",
        "    delta = data.diff()\n",
        "    # Create a new dataframe with the gains\n",
        "    gain = delta.where(delta > 0, 0)\n",
        "    # Create a new dataframe with the losses\n",
        "    loss = -delta.where(delta < 0, 0)\n",
        "    avg_gain = gain.rolling(period).mean()\n",
        "    avg_loss = loss.rolling(period).mean()\n",
        "    rs = avg_gain / avg_loss\n",
        "    rsi = 100 - (100 / (1 + rs))\n",
        "    return rs,rsi\n",
        "    # return pd.DataFrame({'RSI': rsi, 'Avg gain to loss ratio': rs})"
      ],
      "metadata": {
        "id": "YaHDJB1BbSgZ"
      },
      "execution_count": null,
      "outputs": []
    },
    {
      "cell_type": "code",
      "source": [
        "period = 14  # The number of data points to include in the EMA calculation\n",
        "data = dataset['Close']\n",
        "# RSI = np.array(Calculate_RSI(data, period))\n",
        "RSI = Calculate_RSI(data, period)\n",
        "#gain_to_lose stores avg_gain to avg_loss ratio\n",
        "gain_to_lose =RSI[0]\n",
        "# converting pandas series to numpy array\n",
        "gain_to_lose_np =np.array(RSI[0])"
      ],
      "metadata": {
        "id": "rwNANFquj5Of"
      },
      "execution_count": null,
      "outputs": []
    },
    {
      "cell_type": "markdown",
      "source": [
        "# **Function for Calculating Moving Average Convergence/Divergence (MACD)**\n",
        "\n"
      ],
      "metadata": {
        "id": "Me7QZH518FK4"
      }
    },
    {
      "cell_type": "code",
      "source": [
        "def macd(data, short_window, long_window, signal_window):\n",
        "  # using ema function which is defined previously for calculating ema_short,ema_long\n",
        "    ema_short = EMA(data, short_window)\n",
        "    ema_long =  EMA(data, long_window)\n",
        "    #applying the formula for finding macd,signal,histogram\n",
        "    macd = ema_short - ema_long\n",
        "    signal = macd.rolling(window=signal_window).mean()\n",
        "    histogram = macd - signal\n",
        "    return macd,signal,histogram"
      ],
      "metadata": {
        "id": "lBYOlHfNbjGm"
      },
      "execution_count": null,
      "outputs": []
    },
    {
      "cell_type": "markdown",
      "source": [
        "# **Function for Calculating Average True Range (ATR)**"
      ],
      "metadata": {
        "id": "Sj5mQRMGjPT3"
      }
    },
    {
      "cell_type": "code",
      "source": [
        "def calculate_atr(data, n):\n",
        "    #creating df 'H-L' for storing absolute value of High - Low\n",
        "    data['H-L'] = abs(data['High'] - data['Low'])\n",
        "    #creating df 'H-PC' for storing absolute value of High - previous close\n",
        "    data['H-PC'] = abs(data['High'] - data['Close'].shift(1))\n",
        "    data['L-PC'] = abs(data['Low'] - data['Close'].shift(1))\n",
        "    #creating df 'TR'(TRUE RANGE) for maximum of 'H-L', 'H-PC', 'L-PC'\n",
        "    data['TR'] = data[['H-L', 'H-PC', 'L-PC']].max(axis=1)\n",
        "    data['ATR'] = data['TR'].rolling(n).mean()\n",
        "    return data['ATR']"
      ],
      "metadata": {
        "id": "V8W5mj5bjWzt"
      },
      "execution_count": null,
      "outputs": []
    },
    {
      "cell_type": "markdown",
      "source": [
        "# **Function for Calculating Finance Club Indicator(FCI)**"
      ],
      "metadata": {
        "id": "1BIQ7G7vjX0H"
      }
    },
    {
      "cell_type": "code",
      "source": [
        "# ATR_short  variable contains atr for period 7\n",
        "ATR_short = np.array(calculate_atr(dataset, 7))\n",
        "ATR_short1 = calculate_atr(dataset, 7)\n",
        "# ATR_long  variable contains atr for period 21\n",
        "ATR_long = np.array(calculate_atr(dataset, 21))\n",
        "ATR_long1 = calculate_atr(dataset, 21)\n",
        "# atr_ratio  variable contains ratio of ATR_short and ATR_long\n",
        "atr_ratio_np =np.divide(ATR_short,ATR_long)\n",
        "atr_ratio = pd.Series(atr_ratio_np)"
      ],
      "metadata": {
        "id": "n46RJ2lCjtjb"
      },
      "execution_count": null,
      "outputs": []
    },
    {
      "cell_type": "code",
      "source": [
        "def Calculate_FCI(period):\n",
        "  # multiplying gain_to_lose_np,atr_ratio_np\n",
        "  multiply_deno= np.multiply(gain_to_lose_np,atr_ratio_np)\n",
        "  fci_signal_np = 100-np.divide(100,(1+multiply_deno))\n",
        "  # converting numpy fci_signal_np array to fci_signal series \n",
        "  fci_signal = pd.Series(fci_signal_np)\n",
        "  # calculating fci_signal mean and storing in fci_mean\n",
        "  fci_mean = fci_signal.rolling(window = period).mean()\n",
        "  # calculating rsi mean and storing in rsi_mean\n",
        "  rsi_mean = RSI[1].rolling(window = period).mean()\n",
        "  # Applying the formula\n",
        "  FCI = fci_mean - rsi_mean\n",
        "  return FCI"
      ],
      "metadata": {
        "id": "yjTN9wsejeQ4"
      },
      "execution_count": null,
      "outputs": []
    },
    {
      "cell_type": "markdown",
      "source": [
        "# **Calculating the indicators**"
      ],
      "metadata": {
        "id": "zrDhxnke-TpU"
      }
    },
    {
      "cell_type": "markdown",
      "source": [
        "creating a new columns in the same df and storing the values found using the function calls."
      ],
      "metadata": {
        "id": "6s6lxDMKlT8V"
      }
    },
    {
      "cell_type": "code",
      "source": [
        "dataset[\"macd\"], dataset[\"macd_signal\"], dataset[\"macd_hist\"] = macd(dataset[\"Close\"],26,12,9)\n",
        "dataset[\"rsi\"] = Calculate_RSI(dataset[\"Close\"], 14)[1]\n",
        "dataset[\"sma\"] = simple_moving_average(dataset[\"Close\"],21)\n",
        "dataset[\"atr\"] = calculate_atr(dataset,14)\n",
        "dataset[\"fci\"] = Calculate_FCI(10)"
      ],
      "metadata": {
        "id": "nSy2hLICbnzd"
      },
      "execution_count": null,
      "outputs": []
    },
    {
      "cell_type": "markdown",
      "source": [
        "# **Creating the strategy**"
      ],
      "metadata": {
        "id": "gwNoRJ-Y-ew4"
      }
    },
    {
      "cell_type": "code",
      "source": [
        "dataset[\"position\"] = np.where((dataset[\"macd\"] > dataset[\"macd_signal\"]) & (dataset[\"rsi\"] > 50) & (dataset[\"Close\"] > dataset[\"sma\"])&(dataset[\"fci\"]>0), 1, 0)"
      ],
      "metadata": {
        "id": "Tbq3jMoXbssZ"
      },
      "execution_count": null,
      "outputs": []
    },
    {
      "cell_type": "markdown",
      "source": [
        "By playing with these values we can adjust our loss or profit according to our wish ,(like changing (dataset[\"rsi\"] > rsi ) values of rsi )"
      ],
      "metadata": {
        "id": "5CATzRIjKJw4"
      }
    },
    {
      "cell_type": "markdown",
      "source": [
        "This code creates a new column \"position\" in the dataset and assigns a value of 1 or 0 based on the conditions specified in the np.where() function. The np.where() function is used to assign the values based on the specified conditions.\n",
        "\n",
        "If all of these conditions are true, then the value assigned in the new column is 1, otherwise it is 0.\n",
        "\n",
        "This new column \"position\" could be used for the purpose of identifying the trend of the stock for trading.\n",
        "\n",
        "\n",
        "\n",
        "\n"
      ],
      "metadata": {
        "id": "jxAEbbYALe_o"
      }
    },
    {
      "cell_type": "markdown",
      "source": [
        "# **Calculating the returns**"
      ],
      "metadata": {
        "id": "NiBrbdGL-mmU"
      }
    },
    {
      "cell_type": "code",
      "source": [
        "dataset[\"returns\"] = np.log(dataset[\"Close\"] / dataset[\"Close\"].shift(1))\n",
        "dataset[\"strategy_returns\"] = dataset[\"position\"] * dataset[\"returns\"]"
      ],
      "metadata": {
        "id": "iQaep7GEbu4e"
      },
      "execution_count": null,
      "outputs": []
    },
    {
      "cell_type": "markdown",
      "source": [
        "The first line of code calculates the log returns of the \"Close\" column in the dataset by dividing the current value by the previous value and taking the natural logarithm.\n",
        "The second line of code calculates the strategy returns by multiplying the \"position\" column in the dataset by the returns calculated in the first line of code. The resulting \"strategy_returns\" column represents the returns generated by the strategy based on the positions taken in the \"position\" column."
      ],
      "metadata": {
        "id": "LIS9ibQImS0N"
      }
    },
    {
      "cell_type": "markdown",
      "source": [
        "# **Calculating the drawdown**"
      ],
      "metadata": {
        "id": "OAd9URO--wZu"
      }
    },
    {
      "cell_type": "code",
      "source": [
        "# cumprod() function does cumulative product\n",
        "dataset[\"cumulative_returns\"] = (1 + dataset[\"strategy_returns\"]).cumprod()\n",
        "# cummax() function does cumulative sum\n",
        "dataset[\"cumulative_drawdown\"] = (dataset[\"cumulative_returns\"] / dataset[\"cumulative_returns\"].cummax()) - 1\n",
        "print(np.array(dataset[\"cumulative_returns\"]))\n",
        "print(np.array(dataset[\"cumulative_drawdown\"]))"
      ],
      "metadata": {
        "colab": {
          "base_uri": "https://localhost:8080/"
        },
        "id": "FODR0cOGbxHo",
        "outputId": "77ca2116-5d38-490e-afe8-cfca0e85bbc2"
      },
      "execution_count": null,
      "outputs": [
        {
          "output_type": "stream",
          "name": "stdout",
          "text": [
            "[       nan 1.         1.         1.         1.         1.\n",
            " 1.         1.         1.         1.         1.         1.\n",
            " 1.         1.         1.         1.         1.         1.\n",
            " 1.         1.         1.         1.         1.         1.\n",
            " 1.         1.         1.         1.         1.         1.\n",
            " 1.         1.         1.         1.         0.99698613 1.00874576\n",
            " 1.00874576 1.00874576 1.00874576 1.00874576 1.00874576 1.00874576\n",
            " 1.00874576 1.00874576 1.00874576 1.00874576 1.00874576 1.00874576\n",
            " 1.00874576 1.00874576 1.00874576 1.00874576 1.00874576 1.00874576\n",
            " 1.00874576 1.04845144 1.05764656 1.05764656 1.05764656 1.05764656\n",
            " 1.05764656 1.05764656 1.05764656 1.05764656 1.05764656 1.05764656\n",
            " 1.05764656 1.05764656 1.05764656 1.05764656 1.05764656 1.05764656\n",
            " 1.05764656 1.05764656 1.05764656 1.05764656 1.05764656 1.05764656\n",
            " 1.05764656 1.05764656 1.05764656 1.05764656 1.05764656 1.05764656\n",
            " 1.05764656 1.05764656 1.05764656 1.05764656 1.05764656 1.05764656\n",
            " 1.05764656 1.05764656 1.05764656 1.05764656 1.05764656 1.05764656\n",
            " 1.05764656 1.05764656 1.05764656 1.05764656 1.05764656 1.05764656\n",
            " 1.05764656 1.05764656 1.05764656 1.05764656 1.05764656 1.05764656\n",
            " 1.05764656 1.05764656 1.05764656 1.05764656 1.05764656 1.05764656\n",
            " 1.05764656 1.05764656 1.05764656 1.05764656 1.05764656 1.05764656\n",
            " 1.05764656 1.05764656 1.05764656 1.05764656 1.07311032 1.06752797\n",
            " 1.06752797 1.06752797 1.06752797 1.08788691 1.08788691 1.08788691\n",
            " 1.08788691 1.08788691 1.08788691 1.08788691 1.08788691 1.08788691\n",
            " 1.08788691 1.08788691 1.08788691 1.08788691 1.08788691 1.08788691\n",
            " 1.08788691 1.08788691 1.08788691 1.08788691 1.08788691 1.08788691\n",
            " 1.08788691 1.08788691 1.08788691 1.08788691 1.08788691 1.08788691\n",
            " 1.08788691 1.08788691 1.08788691 1.08788691 1.08788691 1.08788691\n",
            " 1.08788691 1.08788691 1.08788691 1.08788691 1.08788691 1.08788691\n",
            " 1.08788691 1.08788691 1.08788691 1.08788691 1.08788691 1.08788691\n",
            " 1.15704373 1.15792444 1.14246358 1.15254995 1.15254995 1.15254995\n",
            " 1.15254995 1.15254995 1.15254995 1.15254995 1.15254995 1.15254995\n",
            " 1.15254995 1.15254995 1.15254995 1.15254995 1.15254995 1.15254995\n",
            " 1.15254995 1.15254995 1.15254995 1.15254995 1.15254995 1.15254995\n",
            " 1.15254995 1.15254995 1.15254995 1.19798341 1.19798341 1.19798341\n",
            " 1.19798341 1.19798341 1.19798341 1.19798341 1.19798341 1.19798341\n",
            " 1.19798341 1.19798341 1.19798341 1.19798341 1.19798341 1.19798341\n",
            " 1.19798341 1.19798341 1.19798341 1.19798341 1.19798341 1.19798341\n",
            " 1.19798341 1.19798341 1.19798341 1.19798341 1.19798341 1.19798341\n",
            " 1.19798341 1.19798341 1.19798341 1.19798341 1.19798341 1.19798341\n",
            " 1.19798341 1.20129807 1.21801009 1.21801009 1.21801009 1.21801009\n",
            " 1.21801009 1.21801009 1.21801009 1.21801009 1.22066553 1.21327096\n",
            " 1.21992926 1.26081013 1.28044328 1.30472209 1.30640416 1.30640416\n",
            " 1.30640416 1.30640416 1.30640416 1.30640416 1.30640416 1.30640416\n",
            " 1.30640416 1.30640416 1.30640416 1.30640416 1.30640416 1.30640416\n",
            " 1.30640416 1.30640416 1.30640416 1.30640416 1.30640416 1.30640416\n",
            " 1.30640416 1.30640416 1.30640416 1.30640416 1.30640416 1.30640416\n",
            " 1.30640416 1.30640416 1.30640416 1.30640416 1.30640416 1.30640416\n",
            " 1.30640416 1.30640416 1.30640416 1.30640416 1.30640416 1.30640416\n",
            " 1.30640416 1.30640416 1.30640416 1.30640416 1.30640416 1.30640416\n",
            " 1.3183149  1.34231356 1.33930506 1.39975633 1.45055289 1.43564852\n",
            " 1.45235897 1.49546109 1.49546109 1.49546109 1.49546109 1.49546109\n",
            " 1.49546109 1.49546109 1.49546109 1.49546109 1.49546109 1.49546109\n",
            " 1.49546109 1.49546109 1.52902295 1.52902295 1.52902295 1.52902295\n",
            " 1.52902295 1.52902295 1.52902295 1.52902295 1.52902295 1.52902295\n",
            " 1.52902295 1.52902295 1.52902295 1.52902295 1.52902295 1.52902295\n",
            " 1.52902295 1.52902295 1.52902295 1.52902295 1.52902295 1.52902295\n",
            " 1.52902295 1.52902295 1.52902295 1.52902295 1.52902295 1.52902295\n",
            " 1.52902295 1.52902295 1.52902295 1.52902295 1.52902295 1.52902295\n",
            " 1.52902295 1.52902295 1.52902295 1.52902295 1.52902295 1.52902295\n",
            " 1.52902295 1.52902295 1.52902295 1.52902295 1.52902295 1.52902295\n",
            " 1.52902295 1.52902295 1.52902295 1.52902295 1.52902295 1.52902295]\n",
            "[        nan  0.          0.          0.          0.          0.\n",
            "  0.          0.          0.          0.          0.          0.\n",
            "  0.          0.          0.          0.          0.          0.\n",
            "  0.          0.          0.          0.          0.          0.\n",
            "  0.          0.          0.          0.          0.          0.\n",
            "  0.          0.          0.          0.         -0.00301387  0.\n",
            "  0.          0.          0.          0.          0.          0.\n",
            "  0.          0.          0.          0.          0.          0.\n",
            "  0.          0.          0.          0.          0.          0.\n",
            "  0.          0.          0.          0.          0.          0.\n",
            "  0.          0.          0.          0.          0.          0.\n",
            "  0.          0.          0.          0.          0.          0.\n",
            "  0.          0.          0.          0.          0.          0.\n",
            "  0.          0.          0.          0.          0.          0.\n",
            "  0.          0.          0.          0.          0.          0.\n",
            "  0.          0.          0.          0.          0.          0.\n",
            "  0.          0.          0.          0.          0.          0.\n",
            "  0.          0.          0.          0.          0.          0.\n",
            "  0.          0.          0.          0.          0.          0.\n",
            "  0.          0.          0.          0.          0.          0.\n",
            "  0.          0.          0.          0.          0.         -0.00520202\n",
            " -0.00520202 -0.00520202 -0.00520202  0.          0.          0.\n",
            "  0.          0.          0.          0.          0.          0.\n",
            "  0.          0.          0.          0.          0.          0.\n",
            "  0.          0.          0.          0.          0.          0.\n",
            "  0.          0.          0.          0.          0.          0.\n",
            "  0.          0.          0.          0.          0.          0.\n",
            "  0.          0.          0.          0.          0.          0.\n",
            "  0.          0.          0.          0.          0.          0.\n",
            "  0.          0.         -0.01335222 -0.00464148 -0.00464148 -0.00464148\n",
            " -0.00464148 -0.00464148 -0.00464148 -0.00464148 -0.00464148 -0.00464148\n",
            " -0.00464148 -0.00464148 -0.00464148 -0.00464148 -0.00464148 -0.00464148\n",
            " -0.00464148 -0.00464148 -0.00464148 -0.00464148 -0.00464148 -0.00464148\n",
            " -0.00464148 -0.00464148 -0.00464148  0.          0.          0.\n",
            "  0.          0.          0.          0.          0.          0.\n",
            "  0.          0.          0.          0.          0.          0.\n",
            "  0.          0.          0.          0.          0.          0.\n",
            "  0.          0.          0.          0.          0.          0.\n",
            "  0.          0.          0.          0.          0.          0.\n",
            "  0.          0.          0.          0.          0.          0.\n",
            "  0.          0.          0.          0.          0.         -0.00605782\n",
            " -0.00060317  0.          0.          0.          0.          0.\n",
            "  0.          0.          0.          0.          0.          0.\n",
            "  0.          0.          0.          0.          0.          0.\n",
            "  0.          0.          0.          0.          0.          0.\n",
            "  0.          0.          0.          0.          0.          0.\n",
            "  0.          0.          0.          0.          0.          0.\n",
            "  0.          0.          0.          0.          0.          0.\n",
            "  0.          0.          0.          0.          0.          0.\n",
            "  0.          0.         -0.00224128  0.          0.         -0.01027495\n",
            "  0.          0.          0.          0.          0.          0.\n",
            "  0.          0.          0.          0.          0.          0.\n",
            "  0.          0.          0.          0.          0.          0.\n",
            "  0.          0.          0.          0.          0.          0.\n",
            "  0.          0.          0.          0.          0.          0.\n",
            "  0.          0.          0.          0.          0.          0.\n",
            "  0.          0.          0.          0.          0.          0.\n",
            "  0.          0.          0.          0.          0.          0.\n",
            "  0.          0.          0.          0.          0.          0.\n",
            "  0.          0.          0.          0.          0.          0.\n",
            "  0.          0.          0.          0.          0.          0.        ]\n"
          ]
        }
      ]
    },
    {
      "cell_type": "markdown",
      "source": [
        "The first line of code calculates the cumulative returns of the strategy by adding 1 to the \"strategy_returns\" column and then taking the cumulative product of the resulting values. This gives the overall growth of the strategy over time.\n",
        "\n",
        "The second line of code calculates the cumulative drawdown of the strategy by dividing the \"cumulative_returns\" by its running maximum and then subtracting 1 from the result. This gives the percentage decrease from the strategy's historical peak returns at any given point in time."
      ],
      "metadata": {
        "id": "7vJGJvdMnj3i"
      }
    },
    {
      "cell_type": "markdown",
      "source": [
        "# **Plot the results**"
      ],
      "metadata": {
        "id": "Gijw3ofy-2_H"
      }
    },
    {
      "cell_type": "code",
      "source": [
        "y = []\n",
        "x = []\n",
        "for i in range(366):\n",
        "  y.append(1)\n",
        "  x.append(i+1)\n",
        "# x is a list cantaining integers from 1 to 355,and y is list containing all its element as 1\n",
        "plt.plot(dataset[\"cumulative_returns\"],\"green\")\n",
        "plt.plot(dataset[\"cumulative_drawdown\"],\"red\")\n",
        "plt.legend([\"return\", \"drawdown\"])\n",
        "plt.plot(x,y,\"grey\",linestyle='dashed')\n",
        "plt.show()"
      ],
      "metadata": {
        "colab": {
          "base_uri": "https://localhost:8080/",
          "height": 269
        },
        "id": "xN4fPy6obx0E",
        "outputId": "5a0e5db7-a505-4a0b-d1bb-d12fc5068fed"
      },
      "execution_count": null,
      "outputs": [
        {
          "output_type": "display_data",
          "data": {
            "text/plain": [
              "<Figure size 432x288 with 1 Axes>"
            ],
            "image/png": "[encoded data removed]"
          },
          "metadata": {
            "needs_background": "light"
          }
        }
      ]
    },
    {
      "cell_type": "markdown",
      "source": [
        "# **Conclusion**"
      ],
      "metadata": {
        "id": "Arn4ZKWvIWec"
      }
    },
    {
      "cell_type": "markdown",
      "source": [
        "The stratergy of using FCI along with macd,rsi,sma reduce the risk of losing as we can see clearly that the drawdown occurs very few number of times ,meanwhile our return is raising gradually.\n",
        "In previous colab we used MACD,RSI,SMA in that statergy the return is increasing at very fast phase but the drawdown occurs a bit more than this statergy \n",
        "But in overall the macd,rsiand sma stratergy is good as it gives good amount returns"
      ],
      "metadata": {
        "id": "Bg2sbaSIFrJ6"
      }
    }
  ]
}